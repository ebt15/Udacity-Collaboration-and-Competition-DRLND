{
  "nbformat": 4,
  "nbformat_minor": 0,
  "metadata": {
    "anaconda-cloud": {},
    "kernelspec": {
      "display_name": "drlnd",
      "language": "python",
      "name": "drlnd"
    },
    "language_info": {
      "codemirror_mode": {
        "name": "ipython",
        "version": 3
      },
      "file_extension": ".py",
      "mimetype": "text/x-python",
      "name": "python",
      "nbconvert_exporter": "python",
      "pygments_lexer": "ipython3",
      "version": "3.6.0"
    },
    "colab": {
      "name": "Tennis.ipynb",
      "provenance": [],
      "collapsed_sections": []
    }
  },
  "cells": [
    {
      "cell_type": "markdown",
      "metadata": {
        "id": "XPEr-K901eOB",
        "colab_type": "text"
      },
      "source": [
        "# Project III - Collaboration and Competition\n"
      ]
    },
    {
      "cell_type": "markdown",
      "metadata": {
        "id": "nenXf4UW0slY",
        "colab_type": "text"
      },
      "source": [
        "### 1. Start the Environment\n",
        "\n",
        "We begin by importing the necessary packages.  If the code cell below returns an error, please revisit the project instructions to double-check that you have installed [Unity ML-Agents](https://github.com/Unity-Technologies/ml-agents/blob/master/docs/Installation.md) and [NumPy](http://www.numpy.org/)."
      ]
    },
    {
      "cell_type": "code",
      "metadata": {
        "id": "MX2IfzX90sla",
        "colab_type": "code",
        "colab": {}
      },
      "source": [
        "# when running in Udacity workspace\n",
        "!pip -q install ./python"
      ],
      "execution_count": null,
      "outputs": []
    },
    {
      "cell_type": "code",
      "metadata": {
        "id": "J64yboZ40sld",
        "colab_type": "code",
        "colab": {}
      },
      "source": [
        "from agent import Agent\n",
        "from collections import deque\n",
        "import matplotlib.pyplot as plt\n",
        "import numpy as np\n",
        "import random\n",
        "import time\n",
        "import torch\n",
        "from unityagents import UnityEnvironment\n",
        "\n",
        "%matplotlib inline"
      ],
      "execution_count": null,
      "outputs": []
    },
    {
      "cell_type": "code",
      "metadata": {
        "id": "gN88lyrj0slg",
        "colab_type": "code",
        "colab": {},
        "outputId": "c021f204-468d-4bbb-fd9c-6ad80b3de06c"
      },
      "source": [
        "## when running locally\n",
        "env = UnityEnvironment(file_name='Tennis.app')"
      ],
      "execution_count": null,
      "outputs": [
        {
          "output_type": "stream",
          "text": [
            "INFO:unityagents:\n",
            "'Academy' started successfully!\n",
            "Unity Academy name: Academy\n",
            "        Number of Brains: 1\n",
            "        Number of External Brains : 1\n",
            "        Lesson number : 0\n",
            "        Reset Parameters :\n",
            "\t\t\n",
            "Unity brain name: TennisBrain\n",
            "        Number of Visual Observations (per agent): 0\n",
            "        Vector Observation space type: continuous\n",
            "        Vector Observation space size (per agent): 8\n",
            "        Number of stacked Vector Observation: 3\n",
            "        Vector Action space type: continuous\n",
            "        Vector Action space size (per agent): 2\n",
            "        Vector Action descriptions: , \n"
          ],
          "name": "stderr"
        }
      ]
    },
    {
      "cell_type": "markdown",
      "metadata": {
        "id": "V-hphjjh0slj",
        "colab_type": "text"
      },
      "source": [
        "Environments contain **_brains_** which are responsible for deciding the actions of their associated agents. Here we check for the first brain available, and set it as the default brain we will be controlling from Python."
      ]
    },
    {
      "cell_type": "code",
      "metadata": {
        "id": "4LsgPDmw0slj",
        "colab_type": "code",
        "colab": {}
      },
      "source": [
        "# get the default brain\n",
        "brain_name = env.brain_names[0]\n",
        "brain = env.brains[brain_name]"
      ],
      "execution_count": null,
      "outputs": []
    },
    {
      "cell_type": "code",
      "metadata": {
        "id": "Y8Y7LJHr0slu",
        "colab_type": "code",
        "colab": {}
      },
      "source": [
        "# Training a model and measuring its performance against a previously solved model\n",
        "SOLVED_SCORE = 0.5\n",
        "CONSEC_EPISODES = 100\n",
        "PRINT_EVERY = 10\n",
        "ADD_NOISE = True"
      ],
      "execution_count": null,
      "outputs": []
    },
    {
      "cell_type": "code",
      "metadata": {
        "id": "v_9vvo9j0slw",
        "colab_type": "code",
        "colab": {}
      },
      "source": [
        "# MADDPG function\n",
        "\n",
        "def maddpg(n_episodes=2000, max_t=1000, train_mode=True):\n",
        "    \"\"\"Multi-Agent Deep Deterministic Policy Gradient (MADDPG)\n",
        "    \n",
        "    Params\n",
        "    ======\n",
        "        n_episodes (int)      : maximum number of training episodes\n",
        "        max_t (int)           : maximum number of timesteps per episode\n",
        "        train_mode (bool)     : if 'True' set environment to training mode\n",
        "\n",
        "    \"\"\"\n",
        "    scores_window = deque(maxlen=CONSEC_EPISODES)\n",
        "    scores_all = []\n",
        "    moving_average = []\n",
        "    best_score = -np.inf\n",
        "    best_episode = 0\n",
        "    already_solved = False    \n",
        "\n",
        "    for i_episode in range(1, n_episodes+1):\n",
        "        env_info = env.reset(train_mode=train_mode)[brain_name]         # reset the environment\n",
        "        states = np.reshape(env_info.vector_observations, (1,48)) # get states and combine them\n",
        "        agent_0.reset()\n",
        "        agent_1.reset()\n",
        "        scores = np.zeros(num_agents)\n",
        "        while True:\n",
        "            actions = get_actions(states, ADD_NOISE)           # choose agent actions and combine them\n",
        "            env_info = env.step(actions)[brain_name]           # send both agents' actions together to the environment\n",
        "            next_states = np.reshape(env_info.vector_observations, (1, 48)) # combine the agent next states\n",
        "            rewards = env_info.rewards                         # get reward\n",
        "            done = env_info.local_done                         # see if episode finished\n",
        "            agent_0.step(states, actions, rewards[0], next_states, done, 0) # agent 1 learns\n",
        "            agent_1.step(states, actions, rewards[1], next_states, done, 1) # agent 2 learns\n",
        "            scores += np.max(rewards)                          # update the score for each agent\n",
        "            states = next_states                               # roll over states to next time step\n",
        "            if np.any(done):                                   # exit loop if episode finished\n",
        "                break\n",
        "\n",
        "        ep_best_score = np.max(scores)\n",
        "        scores_window.append(ep_best_score)\n",
        "        scores_all.append(ep_best_score)\n",
        "        moving_average.append(np.mean(scores_window))\n",
        "\n",
        "        # save best score                        \n",
        "        if ep_best_score > best_score:\n",
        "            best_score = ep_best_score\n",
        "            best_episode = i_episode\n",
        "        \n",
        "        # print results\n",
        "        if i_episode % PRINT_EVERY == 0:\n",
        "            print('Episodes {:0>4d}-{:0>4d}\\tMax Reward: {:.3f}\\tMoving Average: {:.3f}'.format(\n",
        "                i_episode-PRINT_EVERY, i_episode, np.max(scores_all[-PRINT_EVERY:]), moving_average[-1]))\n",
        "\n",
        "        # determine if environment is solved and keep best performing models\n",
        "        if moving_average[-1] >= SOLVED_SCORE:\n",
        "            if not already_solved:\n",
        "                print('<-- Environment solved in {:d} episodes! \\\n",
        "                \\n<-- Moving Average: {:.3f} over past {:d} episodes'.format(\n",
        "                    i_episode-CONSEC_EPISODES, moving_average[-1], CONSEC_EPISODES))\n",
        "                already_solved = True\n",
        "                # save weights\n",
        "                torch.save(agent_0.actor_local.state_dict(), 'ckpt_actor_0.pth')\n",
        "                torch.save(agent_0.critic_local.state_dict(), 'ckpt_critic_0.pth')\n",
        "                torch.save(agent_1.actor_local.state_dict(), 'ckpt_actor_1.pth')\n",
        "                torch.save(agent_1.critic_local.state_dict(), 'ckpt_critic_1.pth')\n",
        "            elif ep_best_score >= best_score:\n",
        "                print('<-- Best episode so far!\\\n",
        "                \\nEpisode {:0>4d}\\tMax Reward: {:.3f}\\tMoving Average: {:.3f}'.format(\n",
        "                i_episode, ep_best_score, moving_average[-1]))\n",
        "                # save weights\n",
        "                torch.save(agent_0.actor_local.state_dict(), 'ckpt_actor_0.pth')\n",
        "                torch.save(agent_0.critic_local.state_dict(), 'ckpt_critic_0.pth')\n",
        "                torch.save(agent_1.actor_local.state_dict(), 'ckpt_actor_1.pth')\n",
        "                torch.save(agent_1.critic_local.state_dict(), 'ckpt_critic_1.pth')\n",
        "            elif (i_episode-best_episode) >= 200:\n",
        "                # stop training if model stops converging\n",
        "                print('<-- Training stopped. Best score not matched or exceeded for 200 episodes')\n",
        "                break\n",
        "            else:\n",
        "                continue\n",
        "            \n",
        "    return scores_all, moving_average"
      ],
      "execution_count": null,
      "outputs": []
    },
    {
      "cell_type": "code",
      "metadata": {
        "id": "_HYinZoy0sly",
        "colab_type": "code",
        "colab": {}
      },
      "source": [
        "def get_actions(states, add_noise):\n",
        "    '''gets actions for each agent and then combines them into one array'''\n",
        "    action_0 = agent_0.act(states, add_noise)    # agent 0 chooses an action\n",
        "    action_1 = agent_1.act(states, add_noise)    # agent 1 chooses an action\n",
        "    return np.concatenate((action_0, action_1), axis=0).flatten()"
      ],
      "execution_count": null,
      "outputs": []
    },
    {
      "cell_type": "code",
      "metadata": {
        "id": "dGVRHiWx0sl1",
        "colab_type": "code",
        "colab": {}
      },
      "source": [
        "# initialize agents\n",
        "agent_0 = Agent(state_size, action_size, num_agents=1, random_seed=0)\n",
        "agent_1 = Agent(state_size, action_size, num_agents=1, random_seed=0)"
      ],
      "execution_count": null,
      "outputs": []
    },
    {
      "cell_type": "markdown",
      "metadata": {
        "id": "eA-7eWSK0sl3",
        "colab_type": "text"
      },
      "source": [
        "# Training the Model"
      ]
    },
    {
      "cell_type": "code",
      "metadata": {
        "id": "RK4JuiNK0sl4",
        "colab_type": "code",
        "colab": {},
        "outputId": "ea383da5-475b-4761-cfc3-5685f2c6ce3a"
      },
      "source": [
        "# run the training loop\n",
        "\n",
        "# BUFFER_SIZE = int(1e6)  # replay buffer size\n",
        "# BATCH_SIZE = 128        # minibatch size\n",
        "# LR_ACTOR = 1e-3         # learning rate of the actor\n",
        "# LR_CRITIC = 1e-3        # learning rate of the critic\n",
        "# WEIGHT_DECAY = 0        # L2 weight decay\n",
        "# LEARN_EVERY = 1         # learning timestep interval\n",
        "# LEARN_NUM = 1           # number of learning passes\n",
        "# GAMMA = 0.99            # discount factor\n",
        "# TAU = 7e-2              # for soft update of target parameters\n",
        "# OU_SIGMA = 0.2          # Ornstein-Uhlenbeck noise parameter, volatility\n",
        "# OU_THETA = 0.12         # Ornstein-Uhlenbeck noise parameter, speed of mean reversion\n",
        "# EPS_START = 5.5         # initial value for epsilon in noise decay process in Agent.act()\n",
        "# EPS_EP_END = 250        # episode to end the noise decay process\n",
        "# EPS_FINAL = 0           # final value for epsilon after decay\n",
        "\n",
        "scores, avgs = maddpg()"
      ],
      "execution_count": null,
      "outputs": [
        {
          "output_type": "stream",
          "text": [
            "Episodes 0000-0010\tMax Reward: 0.100\tMoving Average: 0.040\n",
            "Episodes 0010-0020\tMax Reward: 0.100\tMoving Average: 0.025\n",
            "Episodes 0020-0030\tMax Reward: 0.000\tMoving Average: 0.017\n",
            "Episodes 0030-0040\tMax Reward: 0.100\tMoving Average: 0.018\n",
            "Episodes 0040-0050\tMax Reward: 0.100\tMoving Average: 0.016\n",
            "Episodes 0050-0060\tMax Reward: 0.100\tMoving Average: 0.017\n",
            "Episodes 0060-0070\tMax Reward: 0.100\tMoving Average: 0.019\n",
            "Episodes 0070-0080\tMax Reward: 0.100\tMoving Average: 0.020\n",
            "Episodes 0080-0090\tMax Reward: 0.100\tMoving Average: 0.026\n",
            "Episodes 0090-0100\tMax Reward: 0.100\tMoving Average: 0.026\n",
            "Episodes 0100-0110\tMax Reward: 0.100\tMoving Average: 0.023\n",
            "Episodes 0110-0120\tMax Reward: 0.100\tMoving Average: 0.026\n",
            "Episodes 0120-0130\tMax Reward: 0.100\tMoving Average: 0.029\n",
            "Episodes 0130-0140\tMax Reward: 0.100\tMoving Average: 0.034\n",
            "Episodes 0140-0150\tMax Reward: 0.100\tMoving Average: 0.042\n",
            "Episodes 0150-0160\tMax Reward: 0.200\tMoving Average: 0.046\n",
            "Episodes 0160-0170\tMax Reward: 0.100\tMoving Average: 0.048\n",
            "Episodes 0170-0180\tMax Reward: 0.100\tMoving Average: 0.052\n",
            "Episodes 0180-0190\tMax Reward: 0.100\tMoving Average: 0.051\n",
            "Episodes 0190-0200\tMax Reward: 0.300\tMoving Average: 0.056\n",
            "Episodes 0200-0210\tMax Reward: 0.100\tMoving Average: 0.059\n",
            "Episodes 0210-0220\tMax Reward: 0.100\tMoving Average: 0.060\n",
            "Episodes 0220-0230\tMax Reward: 0.200\tMoving Average: 0.064\n",
            "Episodes 0230-0240\tMax Reward: 0.100\tMoving Average: 0.061\n",
            "Episodes 0240-0250\tMax Reward: 0.200\tMoving Average: 0.057\n",
            "Episodes 0250-0260\tMax Reward: 0.200\tMoving Average: 0.058\n",
            "Episodes 0260-0270\tMax Reward: 0.300\tMoving Average: 0.063\n",
            "Episodes 0270-0280\tMax Reward: 0.200\tMoving Average: 0.067\n",
            "Episodes 0280-0290\tMax Reward: 0.200\tMoving Average: 0.073\n",
            "Episodes 0290-0300\tMax Reward: 0.200\tMoving Average: 0.078\n",
            "Episodes 0300-0310\tMax Reward: 0.200\tMoving Average: 0.084\n",
            "Episodes 0310-0320\tMax Reward: 0.200\tMoving Average: 0.087\n",
            "Episodes 0320-0330\tMax Reward: 0.200\tMoving Average: 0.091\n",
            "Episodes 0330-0340\tMax Reward: 0.300\tMoving Average: 0.097\n",
            "Episodes 0340-0350\tMax Reward: 0.200\tMoving Average: 0.099\n",
            "Episodes 0350-0360\tMax Reward: 0.200\tMoving Average: 0.103\n",
            "Episodes 0360-0370\tMax Reward: 0.300\tMoving Average: 0.105\n",
            "Episodes 0370-0380\tMax Reward: 0.600\tMoving Average: 0.114\n",
            "Episodes 0380-0390\tMax Reward: 0.800\tMoving Average: 0.120\n",
            "Episodes 0390-0400\tMax Reward: 0.500\tMoving Average: 0.121\n",
            "Episodes 0400-0410\tMax Reward: 0.200\tMoving Average: 0.124\n",
            "Episodes 0410-0420\tMax Reward: 0.300\tMoving Average: 0.131\n",
            "Episodes 0420-0430\tMax Reward: 0.400\tMoving Average: 0.136\n",
            "Episodes 0430-0440\tMax Reward: 0.200\tMoving Average: 0.139\n",
            "Episodes 0440-0450\tMax Reward: 0.700\tMoving Average: 0.152\n",
            "Episodes 0450-0460\tMax Reward: 0.400\tMoving Average: 0.160\n",
            "Episodes 0460-0470\tMax Reward: 0.200\tMoving Average: 0.161\n",
            "Episodes 0470-0480\tMax Reward: 0.400\tMoving Average: 0.154\n",
            "Episodes 0480-0490\tMax Reward: 0.500\tMoving Average: 0.160\n",
            "Episodes 0490-0500\tMax Reward: 0.300\tMoving Average: 0.164\n",
            "Episodes 0500-0510\tMax Reward: 0.600\tMoving Average: 0.174\n",
            "Episodes 0510-0520\tMax Reward: 0.200\tMoving Average: 0.172\n",
            "Episodes 0520-0530\tMax Reward: 0.600\tMoving Average: 0.172\n",
            "Episodes 0530-0540\tMax Reward: 0.800\tMoving Average: 0.176\n",
            "Episodes 0540-0550\tMax Reward: 0.800\tMoving Average: 0.179\n",
            "Episodes 0550-0560\tMax Reward: 0.800\tMoving Average: 0.182\n",
            "Episodes 0560-0570\tMax Reward: 0.500\tMoving Average: 0.190\n",
            "Episodes 0570-0580\tMax Reward: 0.400\tMoving Average: 0.194\n",
            "Episodes 0580-0590\tMax Reward: 0.500\tMoving Average: 0.185\n",
            "Episodes 0590-0600\tMax Reward: 0.600\tMoving Average: 0.189\n",
            "Episodes 0600-0610\tMax Reward: 1.700\tMoving Average: 0.199\n",
            "Episodes 0610-0620\tMax Reward: 0.900\tMoving Average: 0.213\n",
            "Episodes 0620-0630\tMax Reward: 0.300\tMoving Average: 0.218\n",
            "Episodes 0630-0640\tMax Reward: 0.400\tMoving Average: 0.225\n",
            "Episodes 0640-0650\tMax Reward: 1.200\tMoving Average: 0.254\n",
            "Episodes 0650-0660\tMax Reward: 2.500\tMoving Average: 0.291\n",
            "Episodes 0660-0670\tMax Reward: 4.200\tMoving Average: 0.346\n",
            "Episodes 0670-0680\tMax Reward: 0.900\tMoving Average: 0.375\n",
            "Episodes 0680-0690\tMax Reward: 2.300\tMoving Average: 0.421\n",
            "Episodes 0690-0700\tMax Reward: 1.800\tMoving Average: 0.440\n",
            "<-- Environment solved in 607 episodes!                 \n",
            "<-- Moving Average: 0.544 over past 100 episodes\n",
            "Episodes 0700-0710\tMax Reward: 5.200\tMoving Average: 0.598\n",
            "Episodes 0710-0720\tMax Reward: 1.200\tMoving Average: 0.604\n",
            "Episodes 0720-0730\tMax Reward: 2.600\tMoving Average: 0.665\n",
            "Episodes 0730-0740\tMax Reward: 0.900\tMoving Average: 0.673\n",
            "Episodes 0740-0750\tMax Reward: 2.700\tMoving Average: 0.688\n",
            "Episodes 0750-0760\tMax Reward: 3.800\tMoving Average: 0.695\n",
            "Episodes 0760-0770\tMax Reward: 2.700\tMoving Average: 0.706\n",
            "Episodes 0770-0780\tMax Reward: 4.800\tMoving Average: 0.727\n",
            "<-- Best episode so far!                \n",
            "Episode 0785\tMax Reward: 5.200\tMoving Average: 0.780\n",
            "Episodes 0780-0790\tMax Reward: 5.200\tMoving Average: 0.759\n",
            "Episodes 0790-0800\tMax Reward: 4.000\tMoving Average: 0.827\n",
            "Episodes 0800-0810\tMax Reward: 1.700\tMoving Average: 0.719\n",
            "<-- Best episode so far!                \n",
            "Episode 0817\tMax Reward: 5.200\tMoving Average: 0.792\n",
            "Episodes 0810-0820\tMax Reward: 5.200\tMoving Average: 0.839\n",
            "Episodes 0820-0830\tMax Reward: 1.400\tMoving Average: 0.814\n",
            "Episodes 0830-0840\tMax Reward: 4.500\tMoving Average: 0.927\n",
            "Episodes 0840-0850\tMax Reward: 1.500\tMoving Average: 0.910\n",
            "Episodes 0850-0860\tMax Reward: 3.200\tMoving Average: 0.921\n",
            "Episodes 0860-0870\tMax Reward: 0.400\tMoving Average: 0.839\n",
            "Episodes 0870-0880\tMax Reward: 0.500\tMoving Average: 0.781\n",
            "<-- Best episode so far!                \n",
            "Episode 0884\tMax Reward: 5.200\tMoving Average: 0.906\n",
            "Episodes 0880-0890\tMax Reward: 5.200\tMoving Average: 0.890\n",
            "Episodes 0890-0900\tMax Reward: 1.500\tMoving Average: 0.815\n",
            "<-- Training stopped. Best score not topped for 200 episodes\n"
          ],
          "name": "stdout"
        }
      ]
    },
    {
      "cell_type": "code",
      "metadata": {
        "id": "s57fAuPs0sl6",
        "colab_type": "code",
        "colab": {},
        "outputId": "bcc81dd6-a545-4a2b-e75e-e5ec13bd085e"
      },
      "source": [
        "# plot the scores\n",
        "fig = plt.figure()\n",
        "ax = fig.add_subplot(111)\n",
        "plt.plot(np.arange(len(scores)), scores, label='MADDPG')\n",
        "plt.plot(np.arange(len(scores)), avgs, c='r', label='moving avg')\n",
        "plt.ylabel('Score')\n",
        "plt.xlabel('Episode #')\n",
        "plt.legend(loc='upper left');\n",
        "plt.show()"
      ],
      "execution_count": null,
      "outputs": [
        {
          "output_type": "display_data",
          "data": {
            "image/png": "[encoded data removed]",
            "text/plain": [
              "<Figure size 432x288 with 1 Axes>"
            ]
          },
          "metadata": {
            "tags": [],
            "needs_background": "light"
          }
        }
      ]
    },
    {
      "cell_type": "markdown",
      "metadata": {
        "id": "tfqSNgMj0smN",
        "colab_type": "text"
      },
      "source": [
        "When finished, you can close the environment."
      ]
    },
    {
      "cell_type": "code",
      "metadata": {
        "id": "Vb7YKob30smN",
        "colab_type": "code",
        "colab": {}
      },
      "source": [
        "env.close()"
      ],
      "execution_count": null,
      "outputs": []
    }
  ]
}