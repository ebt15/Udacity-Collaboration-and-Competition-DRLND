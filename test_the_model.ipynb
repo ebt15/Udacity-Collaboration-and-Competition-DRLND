{
  "nbformat": 4,
  "nbformat_minor": 0,
  "metadata": {
    "anaconda-cloud": {},
    "kernelspec": {
      "display_name": "drlnd",
      "language": "python",
      "name": "drlnd"
    },
    "language_info": {
      "codemirror_mode": {
        "name": "ipython",
        "version": 3
      },
      "file_extension": ".py",
      "mimetype": "text/x-python",
      "name": "python",
      "nbconvert_exporter": "python",
      "pygments_lexer": "ipython3",
      "version": "3.6.0"
    },
    "colab": {
      "name": "test_the_model.ipynb",
      "provenance": [],
      "collapsed_sections": []
    }
  },
  "cells": [
    {
      "cell_type": "markdown",
      "metadata": {
        "id": "cYqmGObW5Nor",
        "colab_type": "text"
      },
      "source": [
        "# Testing a Saved Agent\n",
        "\n",
        "### 1. Start the Environment\n",
        "\n",
        "We begin by importing the necessary packages.  If the code cell below returns an error, please revisit the project instructions to double-check that you have installed [Unity ML-Agents](https://github.com/Unity-Technologies/ml-agents/blob/master/docs/Installation.md) and [NumPy](http://www.numpy.org/)."
      ]
    },
    {
      "cell_type": "code",
      "metadata": {
        "id": "w3Ny4G5v5Nos",
        "colab_type": "code",
        "colab": {}
      },
      "source": [
        "# when running in Udacity workspace\n",
        "!pip -q install ./python"
      ],
      "execution_count": null,
      "outputs": []
    },
    {
      "cell_type": "code",
      "metadata": {
        "id": "57m4akVH5Nov",
        "colab_type": "code",
        "colab": {}
      },
      "source": [
        "from agent import Agent\n",
        "from collections import deque\n",
        "import matplotlib.pyplot as plt\n",
        "import numpy as np\n",
        "import random\n",
        "import time\n",
        "import torch\n",
        "from unityagents import UnityEnvironment\n",
        "\n",
        "%matplotlib inline"
      ],
      "execution_count": null,
      "outputs": []
    },
    {
      "cell_type": "code",
      "metadata": {
        "id": "KSJnVruT5Noz",
        "colab_type": "code",
        "colab": {},
        "outputId": "d9efe775-dde0-411c-85c4-7594036ae339"
      },
      "source": [
        "## when running locally\n",
        "env = UnityEnvironment(file_name='Tennis.app')"
      ],
      "execution_count": null,
      "outputs": [
        {
          "output_type": "stream",
          "text": [
            "INFO:unityagents:\n",
            "'Academy' started successfully!\n",
            "Unity Academy name: Academy\n",
            "        Number of Brains: 1\n",
            "        Number of External Brains : 1\n",
            "        Lesson number : 0\n",
            "        Reset Parameters :\n",
            "\t\t\n",
            "Unity brain name: TennisBrain\n",
            "        Number of Visual Observations (per agent): 0\n",
            "        Vector Observation space type: continuous\n",
            "        Vector Observation space size (per agent): 8\n",
            "        Number of stacked Vector Observation: 3\n",
            "        Vector Action space type: continuous\n",
            "        Vector Action space size (per agent): 2\n",
            "        Vector Action descriptions: , \n"
          ],
          "name": "stderr"
        }
      ]
    },
    {
      "cell_type": "code",
      "metadata": {
        "id": "lOJxMTVv5No3",
        "colab_type": "code",
        "colab": {}
      },
      "source": [
        "# get the default brain\n",
        "brain_name = env.brain_names[0]\n",
        "brain = env.brains[brain_name]"
      ],
      "execution_count": null,
      "outputs": []
    },
    {
      "cell_type": "markdown",
      "metadata": {
        "id": "VG9KDiM15NpV",
        "colab_type": "text"
      },
      "source": [
        "---\n",
        "### Test a saved agent"
      ]
    },
    {
      "cell_type": "code",
      "metadata": {
        "id": "hj6tQ68V5NpV",
        "colab_type": "code",
        "colab": {}
      },
      "source": [
        "CONSEC_EPISODES = 10\n",
        "PRINT_EVERY = 1\n",
        "ADD_NOISE = False"
      ],
      "execution_count": null,
      "outputs": []
    },
    {
      "cell_type": "code",
      "metadata": {
        "id": "ScmjG1tQ5NpX",
        "colab_type": "code",
        "colab": {}
      },
      "source": [
        "## reinitialize the agents (if needed)\n",
        "agent_0 = Agent(state_size, action_size, num_agents=1, random_seed=0)\n",
        "agent_1 = Agent(state_size, action_size, num_agents=1, random_seed=0)\n",
        "\n",
        "# load the weights from file\n",
        "agent_0_weights = 'ckpt_actor_0.pth'\n",
        "agent_1_weights = 'ckpt_actor_1.pth'\n",
        "agent_0.actor_local.load_state_dict(torch.load(agent_0_weights))\n",
        "agent_1.actor_local.load_state_dict(torch.load(agent_1_weights))     "
      ],
      "execution_count": null,
      "outputs": []
    },
    {
      "cell_type": "code",
      "metadata": {
        "id": "XBCqgmCb5Npa",
        "colab_type": "code",
        "colab": {}
      },
      "source": [
        "def test(n_episodes=10, max_t=1000, train_mode=False):\n",
        "\n",
        "    scores_window = deque(maxlen=CONSEC_EPISODES)\n",
        "    scores_all = []\n",
        "    moving_average = []  \n",
        "\n",
        "    for i_episode in range(1, n_episodes+1):\n",
        "        env_info = env.reset(train_mode=train_mode)[brain_name]         # reset the environment\n",
        "        states = np.reshape(env_info.vector_observations, (1,48)) # get states and combine them\n",
        "        scores = np.zeros(num_agents)\n",
        "        while True:\n",
        "            actions = get_actions(states, ADD_NOISE)           # choose agent actions and combine them\n",
        "            env_info = env.step(actions)[brain_name]           # send both agents' actions together to the environment\n",
        "            next_states = np.reshape(env_info.vector_observations, (1, 48)) # combine the agent next states\n",
        "            rewards = env_info.rewards                         # get reward\n",
        "            done = env_info.local_done                         # see if episode finished\n",
        "            scores += np.max(rewards)                          # update the score for each agent\n",
        "            states = next_states                               # roll over states to next time step\n",
        "            if np.any(done):                                   # exit loop if episode finished\n",
        "                break\n",
        "\n",
        "        ep_best_score = np.max(scores)\n",
        "        scores_window.append(ep_best_score)\n",
        "        scores_all.append(ep_best_score)\n",
        "        moving_average.append(np.mean(scores_window))\n",
        "\n",
        "        # print results\n",
        "        if i_episode % PRINT_EVERY == 0:\n",
        "            print('Episodes {:0>4d}-{:0>4d}\\tMax Reward: {:.3f}\\tMoving Average: {:.3f}'.format(\n",
        "                i_episode-PRINT_EVERY, i_episode, np.max(scores_all[-PRINT_EVERY:]), moving_average[-1]))\n",
        "            \n",
        "    return scores_all, moving_average            "
      ],
      "execution_count": null,
      "outputs": []
    },
    {
      "cell_type": "code",
      "metadata": {
        "id": "6qg0l1sE5Npc",
        "colab_type": "code",
        "colab": {},
        "outputId": "aebb7c91-10f2-4905-e786-9d72f1e64a87"
      },
      "source": [
        "scores, avgs = test()"
      ],
      "execution_count": null,
      "outputs": [
        {
          "output_type": "stream",
          "text": [
            "Episodes 0000-0001\tMax Reward: 5.200\tMoving Average: 5.200\n",
            "Episodes 0001-0002\tMax Reward: 0.000\tMoving Average: 2.600\n",
            "Episodes 0002-0003\tMax Reward: 5.200\tMoving Average: 3.467\n",
            "Episodes 0003-0004\tMax Reward: 0.000\tMoving Average: 2.600\n",
            "Episodes 0004-0005\tMax Reward: 0.000\tMoving Average: 2.080\n",
            "Episodes 0005-0006\tMax Reward: 0.400\tMoving Average: 1.800\n",
            "Episodes 0006-0007\tMax Reward: 5.200\tMoving Average: 2.286\n",
            "Episodes 0007-0008\tMax Reward: 0.000\tMoving Average: 2.000\n",
            "Episodes 0008-0009\tMax Reward: 0.100\tMoving Average: 1.789\n",
            "Episodes 0009-0010\tMax Reward: 5.200\tMoving Average: 2.130\n"
          ],
          "name": "stdout"
        }
      ]
    },
    {
      "cell_type": "code",
      "metadata": {
        "id": "Qtv1xqUj5Npe",
        "colab_type": "code",
        "colab": {},
        "outputId": "4b091511-8b71-4bf4-fc4f-2c4946f0af48"
      },
      "source": [
        "# plot the scores\n",
        "fig = plt.figure()\n",
        "ax = fig.add_subplot(111)\n",
        "plt.plot(np.arange(len(scores)), scores, label='MADDPG')\n",
        "plt.plot(np.arange(len(scores)), avgs, c='r', label='moving avg')\n",
        "plt.ylabel('Score')\n",
        "plt.xlabel('Episode #')\n",
        "plt.legend(loc='upper left');\n",
        "plt.show()"
      ],
      "execution_count": null,
      "outputs": [
        {
          "output_type": "display_data",
          "data": {
            "image/png": "[encoded data removed]",
            "text/plain": [
              "<Figure size 432x288 with 1 Axes>"
            ]
          },
          "metadata": {
            "tags": [],
            "needs_background": "light"
          }
        }
      ]
    },
    {
      "cell_type": "markdown",
      "metadata": {
        "id": "YsPVptWT5Npg",
        "colab_type": "text"
      },
      "source": [
        "When finished, you can close the environment."
      ]
    },
    {
      "cell_type": "code",
      "metadata": {
        "id": "AmMZyaiV5Npg",
        "colab_type": "code",
        "colab": {}
      },
      "source": [
        "env.close()"
      ],
      "execution_count": null,
      "outputs": []
    }
  ]
}